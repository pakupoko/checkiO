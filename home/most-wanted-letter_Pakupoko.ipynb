{
 "cells": [
  {
   "cell_type": "code",
   "execution_count": 19,
   "metadata": {},
   "outputs": [],
   "source": [
    "def checkio(text: str):\n",
    "    \n",
    "    set_text = {}\n",
    "    \n",
    "    for t in text:\n",
    "        if not t.lower() in set_text :\n",
    "            set_text[t.lower()]=1\n",
    "        else:\n",
    "            set_text[t.lower()]+=1\n",
    "            \n",
    "    set_text=sorted(set_text.items(),key=lambda x:x[1], reverse=True)\n",
    "    \n",
    "    max_c='z'\n",
    "    max_int=0\n",
    "    for val in set_text:\n",
    "        if val[0].isalpha() :\n",
    "            if max_int <val[1]:\n",
    "                max_int=val[1]\n",
    "                max_c=val[0]\n",
    "            \n",
    "            elif max_int == val[1]:\n",
    "                if max_c > val[0]:\n",
    "                    max_int=val[1]\n",
    "                    max_c=val[0]  \n",
    "    \n",
    "    return max_c"
   ]
  },
  {
   "cell_type": "code",
   "execution_count": 21,
   "metadata": {},
   "outputs": [
    {
     "data": {
      "text/plain": [
       "'a'"
      ]
     },
     "execution_count": 21,
     "metadata": {},
     "output_type": "execute_result"
    }
   ],
   "source": [
    "checkio(\"AAaooo!!!!\")"
   ]
  },
  {
   "cell_type": "code",
   "execution_count": 16,
   "metadata": {},
   "outputs": [
    {
     "data": {
      "text/plain": [
       "True"
      ]
     },
     "execution_count": 16,
     "metadata": {},
     "output_type": "execute_result"
    }
   ],
   "source": []
  },
  {
   "cell_type": "code",
   "execution_count": null,
   "metadata": {},
   "outputs": [],
   "source": []
  }
 ],
 "metadata": {
  "kernelspec": {
   "display_name": "Python 3",
   "language": "python",
   "name": "python3"
  },
  "language_info": {
   "codemirror_mode": {
    "name": "ipython",
    "version": 3
   },
   "file_extension": ".py",
   "mimetype": "text/x-python",
   "name": "python",
   "nbconvert_exporter": "python",
   "pygments_lexer": "ipython3",
   "version": "3.6.6"
  }
 },
 "nbformat": 4,
 "nbformat_minor": 2
}
