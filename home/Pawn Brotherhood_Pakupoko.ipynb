{
 "cells": [
  {
   "cell_type": "code",
   "execution_count": 35,
   "metadata": {},
   "outputs": [],
   "source": [
    "def safe_pawns(pawns : set):\n",
    "    CHESS_ALPHABET='abcdefgh'\n",
    "    i=0\n",
    "    \n",
    "    pawns=sorted(pawns, key=lambda x:x[1], reverse=True)\n",
    "    \n",
    "    safe=set()\n",
    "    while True:\n",
    "        bro1 = ''\n",
    "        bro2 = ''\n",
    "        \n",
    "        try:\n",
    "            if i>len(pawns):\n",
    "                break\n",
    "                \n",
    "            #형제 Pawn 위치 확인 \n",
    "            c_idx = CHESS_ALPHABET.index(pawns[i][0]) #체스판 인덱싱을 위함\n",
    "            \n",
    "            if pawns[i][0] == 'a': #체스말이 a 라인에 있나?\n",
    "                bro2 = CHESS_ALPHABET[c_idx+1] + str(int(pawns[i][1])-1)\n",
    "            elif pawns[i][0] == 'h': #체스말이 h 라인에 있나?\n",
    "                bro1 = CHESS_ALPHABET[c_idx-1] + str(int(pawns[i][1])-1)\n",
    "            else: #아니면 가운데 라인에 있나?\n",
    "                bro1 = CHESS_ALPHABET[c_idx-1] + str(int(pawns[i][1])-1)\n",
    "                bro2 = CHESS_ALPHABET[c_idx+1] + str(int(pawns[i][1])-1)\n",
    "            \n",
    "            #형제가 있을 경우 safe set에 넣을 것\n",
    "            if (bro1 in pawns) or (bro2 in pawns) :\n",
    "                safe.add(pawns[i])\n",
    "                \n",
    "            i+=1 #인덱싱\n",
    "        except:\n",
    "            break\n",
    "    \n",
    "    return len(safe)"
   ]
  },
  {
   "cell_type": "code",
   "execution_count": 36,
   "metadata": {},
   "outputs": [
    {
     "data": {
      "text/plain": [
       "6"
      ]
     },
     "execution_count": 36,
     "metadata": {},
     "output_type": "execute_result"
    }
   ],
   "source": [
    "safe_pawns({\"b4\", \"d4\", \"f4\", \"c3\", \"e3\", \"g5\", \"d2\"})"
   ]
  },
  {
   "cell_type": "code",
   "execution_count": 37,
   "metadata": {},
   "outputs": [
    {
     "data": {
      "text/plain": [
       "1"
      ]
     },
     "execution_count": 37,
     "metadata": {},
     "output_type": "execute_result"
    }
   ],
   "source": [
    "safe_pawns({\"b4\", \"c4\", \"d4\", \"e4\", \"f4\", \"g4\", \"e5\"})"
   ]
  },
  {
   "cell_type": "code",
   "execution_count": 38,
   "metadata": {},
   "outputs": [
    {
     "data": {
      "text/plain": [
       "7"
      ]
     },
     "execution_count": 38,
     "metadata": {},
     "output_type": "execute_result"
    }
   ],
   "source": [
    "safe_pawns([\"a1\",\"b2\",\"c3\",\"d4\",\"e5\",\"f6\",\"g7\",\"h8\"])"
   ]
  },
  {
   "cell_type": "code",
   "execution_count": null,
   "metadata": {},
   "outputs": [],
   "source": []
  }
 ],
 "metadata": {
  "kernelspec": {
   "display_name": "Python 3",
   "language": "python",
   "name": "python3"
  },
  "language_info": {
   "codemirror_mode": {
    "name": "ipython",
    "version": 3
   },
   "file_extension": ".py",
   "mimetype": "text/x-python",
   "name": "python",
   "nbconvert_exporter": "python",
   "pygments_lexer": "ipython3",
   "version": "3.6.6"
  }
 },
 "nbformat": 4,
 "nbformat_minor": 2
}
