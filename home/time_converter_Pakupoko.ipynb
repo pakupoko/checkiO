{
 "cells": [
  {
   "cell_type": "code",
   "execution_count": 16,
   "metadata": {},
   "outputs": [],
   "source": [
    "def time_converter(time):\n",
    "    if int(time[:2]) > 12:\n",
    "        hour=int(time[:2]) - 12\n",
    "        new_time=str(hour)+time[2:] + ' p.m.'\n",
    "    elif int(time[:2]) == 12:\n",
    "        new_time=time+' p.m.'\n",
    "    elif int(time[:2]) < 10:\n",
    "        if time[:2] == '00':\n",
    "            new_time='12'+time[2:]+' a.m.'\n",
    "        else:\n",
    "            new_time=time[1:]+' a.m.'\n",
    "    else:\n",
    "        new_time=time+' a.m.' \n",
    "    return new_time"
   ]
  },
  {
   "cell_type": "code",
   "execution_count": 17,
   "metadata": {},
   "outputs": [
    {
     "data": {
      "text/plain": [
       "'12:30 a.m.'"
      ]
     },
     "execution_count": 17,
     "metadata": {},
     "output_type": "execute_result"
    }
   ],
   "source": [
    "time_converter('00:30')"
   ]
  },
  {
   "cell_type": "code",
   "execution_count": null,
   "metadata": {},
   "outputs": [],
   "source": []
  }
 ],
 "metadata": {
  "kernelspec": {
   "display_name": "Python 3",
   "language": "python",
   "name": "python3"
  },
  "language_info": {
   "codemirror_mode": {
    "name": "ipython",
    "version": 3
   },
   "file_extension": ".py",
   "mimetype": "text/x-python",
   "name": "python",
   "nbconvert_exporter": "python",
   "pygments_lexer": "ipython3",
   "version": "3.6.6"
  }
 },
 "nbformat": 4,
 "nbformat_minor": 2
}
