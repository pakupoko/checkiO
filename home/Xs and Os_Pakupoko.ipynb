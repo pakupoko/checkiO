{
 "cells": [
  {
   "cell_type": "code",
   "execution_count": 15,
   "metadata": {},
   "outputs": [],
   "source": [
    "from typing import List\n",
    "\n",
    "def checkio(game_result : List[str]):\n",
    "    x_win, x_cnt = 0,0\n",
    "    o_win, o_cnt = 0,0\n",
    "    #행으로 검사\n",
    "    for i in game_result:\n",
    "        for j in i:\n",
    "            if j == 'X' :\n",
    "                x_cnt+=1\n",
    "            elif j == 'O':\n",
    "                o_cnt+=1\n",
    "        if x_cnt==3 :\n",
    "            x_win+=1\n",
    "        elif o_cnt == 3 :\n",
    "            o_win+=1\n",
    "            \n",
    "        x_cnt, o_cnt=0,0\n",
    "        \n",
    "    #열로 검사\n",
    "    for i in range(0,3):\n",
    "        for j in range(0,3):\n",
    "            if game_result[j][i] == 'X':\n",
    "                x_cnt+=1\n",
    "            elif game_result[j][i] == 'O':\n",
    "                o_cnt+=1\n",
    "        if x_cnt==3 :\n",
    "            x_win+=1\n",
    "        elif o_cnt == 3 :\n",
    "            o_win+=1\n",
    "            \n",
    "        x_cnt, o_cnt=0,0\n",
    "    #대각으로 검사(우하향)\n",
    "    for i in range(0,3):\n",
    "    \n",
    "        if game_result[i][i] == 'X':\n",
    "            x_cnt+=1\n",
    "        elif game_result[i][i] == 'O':\n",
    "            o_cnt+=1\n",
    "    if x_cnt==3 :\n",
    "        x_win+=1\n",
    "    elif o_cnt == 3 :\n",
    "        o_win+=1\n",
    "            \n",
    "    x_cnt, o_cnt=0,0       \n",
    "    #대각으로 검사(좌상향)\n",
    "    j=0\n",
    "    for i in range(2,-1,-1):\n",
    "        if game_result[i][j] == 'X':\n",
    "            x_cnt+=1\n",
    "        elif game_result[i][j] == 'O':\n",
    "            o_cnt+=1\n",
    "        j+=1\n",
    "    if x_cnt==3 :\n",
    "        x_win+=1\n",
    "    elif o_cnt == 3 :\n",
    "        o_win+=1\n",
    "            \n",
    "    x_cnt, o_cnt=0,0\n",
    "    #return\n",
    "    if x_win>o_win :\n",
    "        return \"X\"\n",
    "    elif x_win<o_win :\n",
    "        return \"O\"\n",
    "    else:\n",
    "        return \"D\""
   ]
  },
  {
   "cell_type": "code",
   "execution_count": 16,
   "metadata": {},
   "outputs": [
    {
     "data": {
      "text/plain": [
       "'X'"
      ]
     },
     "execution_count": 16,
     "metadata": {},
     "output_type": "execute_result"
    }
   ],
   "source": [
    "checkio([\n",
    "        \"X.O\",\n",
    "        \"XX.\",\n",
    "        \"XOO\"])"
   ]
  },
  {
   "cell_type": "code",
   "execution_count": 17,
   "metadata": {},
   "outputs": [
    {
     "data": {
      "text/plain": [
       "'O'"
      ]
     },
     "execution_count": 17,
     "metadata": {},
     "output_type": "execute_result"
    }
   ],
   "source": [
    "checkio([\n",
    "        \"OO.\",\n",
    "        \"XOX\",\n",
    "        \"XOX\"])"
   ]
  },
  {
   "cell_type": "code",
   "execution_count": 18,
   "metadata": {},
   "outputs": [
    {
     "data": {
      "text/plain": [
       "'D'"
      ]
     },
     "execution_count": 18,
     "metadata": {},
     "output_type": "execute_result"
    }
   ],
   "source": [
    "checkio([\n",
    "        \"OOX\",\n",
    "        \"XXO\",\n",
    "        \"OXX\"])"
   ]
  },
  {
   "cell_type": "code",
   "execution_count": 19,
   "metadata": {},
   "outputs": [
    {
     "data": {
      "text/plain": [
       "'X'"
      ]
     },
     "execution_count": 19,
     "metadata": {},
     "output_type": "execute_result"
    }
   ],
   "source": [
    "checkio([\n",
    "        \"O.X\",\n",
    "        \"XX.\",\n",
    "        \"XOO\"])"
   ]
  },
  {
   "cell_type": "code",
   "execution_count": null,
   "metadata": {},
   "outputs": [],
   "source": []
  }
 ],
 "metadata": {
  "kernelspec": {
   "display_name": "Python 3",
   "language": "python",
   "name": "python3"
  },
  "language_info": {
   "codemirror_mode": {
    "name": "ipython",
    "version": 3
   },
   "file_extension": ".py",
   "mimetype": "text/x-python",
   "name": "python",
   "nbconvert_exporter": "python",
   "pygments_lexer": "ipython3",
   "version": "3.6.6"
  }
 },
 "nbformat": 4,
 "nbformat_minor": 2
}
