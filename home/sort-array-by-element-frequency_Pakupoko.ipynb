{
 "cells": [
  {
   "cell_type": "code",
   "execution_count": 33,
   "metadata": {},
   "outputs": [],
   "source": [
    "def frequency_sort(items):\n",
    "    #set_items=set(items) #리스트를 중복 값 제거한 set 객체로 만듦\n",
    "    set_items=[]\n",
    "    for val in items:\n",
    "        try:\n",
    "            set_items.index(val)\n",
    "        except:\n",
    "            set_items.append(val)\n",
    "            \n",
    "    dict_items={}\n",
    "    for val in set_items: #리스트 내용물의 count\n",
    "        dict_items[val]=items.count(val)\n",
    "\n",
    "    sorted_items=sorted(dict_items.items(), key=lambda x : x[1], reverse=True) #정렬\n",
    "\n",
    "    new_items=[]\n",
    "    for val in sorted_items: #새로운 리스트 생성\n",
    "        for i in range(val[1]):\n",
    "            new_items.append(val[0])\n",
    "\n",
    "    return new_items"
   ]
  },
  {
   "cell_type": "code",
   "execution_count": 34,
   "metadata": {},
   "outputs": [
    {
     "data": {
      "text/plain": [
       "[17, 99, 42]"
      ]
     },
     "execution_count": 34,
     "metadata": {},
     "output_type": "execute_result"
    }
   ],
   "source": [
    "frequency_sort([17,99,42])"
   ]
  }
 ],
 "metadata": {
  "kernelspec": {
   "display_name": "Python 3",
   "language": "python",
   "name": "python3"
  },
  "language_info": {
   "codemirror_mode": {
    "name": "ipython",
    "version": 3
   },
   "file_extension": ".py",
   "mimetype": "text/x-python",
   "name": "python",
   "nbconvert_exporter": "python",
   "pygments_lexer": "ipython3",
   "version": "3.6.6"
  }
 },
 "nbformat": 4,
 "nbformat_minor": 2
}
