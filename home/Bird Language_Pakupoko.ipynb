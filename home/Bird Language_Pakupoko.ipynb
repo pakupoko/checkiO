{
 "cells": [
  {
   "cell_type": "code",
   "execution_count": 9,
   "metadata": {},
   "outputs": [],
   "source": [
    "VOWELS='aeiouy'\n",
    "\n",
    "def translate(phrase):\n",
    "    i=0\n",
    "    parsing=''\n",
    "    \n",
    "    while True:\n",
    "        try:\n",
    "            if i > len(phrase) :\n",
    "                break\n",
    "            if phrase[i] == ' ':\n",
    "                parsing+=' '\n",
    "                i+=1\n",
    "                continue\n",
    "\n",
    "            if phrase[i+1] != phrase[i]:\n",
    "                if phrase[i+1] in VOWELS :\n",
    "                    parsing+=phrase[i]\n",
    "                    i+=2\n",
    "\n",
    "            elif phrase[i+2] == phrase[i]:\n",
    "                parsing+=phrase[i]\n",
    "                i+=3\n",
    "        except:\n",
    "            break\n",
    "    \n",
    "    return parsing"
   ]
  },
  {
   "cell_type": "code",
   "execution_count": 11,
   "metadata": {},
   "outputs": [
    {
     "data": {
      "text/plain": [
       "'how you doin'"
      ]
     },
     "execution_count": 11,
     "metadata": {},
     "output_type": "execute_result"
    }
   ],
   "source": [
    "translate(\"hoooowe yyyooouuu duoooiiine\")"
   ]
  },
  {
   "cell_type": "code",
   "execution_count": 12,
   "metadata": {},
   "outputs": [
    {
     "data": {
      "text/plain": [
       "'a b c d e f'"
      ]
     },
     "execution_count": 12,
     "metadata": {},
     "output_type": "execute_result"
    }
   ],
   "source": [
    "translate(\"aaa bo cy da eee fe\")"
   ]
  },
  {
   "cell_type": "code",
   "execution_count": 13,
   "metadata": {},
   "outputs": [
    {
     "data": {
      "text/plain": [
       "'sos aaa'"
      ]
     },
     "execution_count": 13,
     "metadata": {},
     "output_type": "execute_result"
    }
   ],
   "source": [
    "translate(\"sooooso aaaaaaaaa\")"
   ]
  },
  {
   "cell_type": "code",
   "execution_count": null,
   "metadata": {},
   "outputs": [],
   "source": []
  }
 ],
 "metadata": {
  "kernelspec": {
   "display_name": "Python 3",
   "language": "python",
   "name": "python3"
  },
  "language_info": {
   "codemirror_mode": {
    "name": "ipython",
    "version": 3
   },
   "file_extension": ".py",
   "mimetype": "text/x-python",
   "name": "python",
   "nbconvert_exporter": "python",
   "pygments_lexer": "ipython3",
   "version": "3.6.6"
  }
 },
 "nbformat": 4,
 "nbformat_minor": 2
}
