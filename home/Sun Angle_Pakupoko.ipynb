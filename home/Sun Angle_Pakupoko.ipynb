{
 "cells": [
  {
   "cell_type": "code",
   "execution_count": 18,
   "metadata": {},
   "outputs": [],
   "source": [
    "def sun_angle(time):\n",
    "    time_list = time.split(':')\n",
    "    \n",
    "    hour = int(time_list[0])\n",
    "    minute = int(time_list[1])\n",
    "    \n",
    "    if hour < 6 or hour > 18:\n",
    "        return \"I don't see the sun!\"\n",
    "    \n",
    "    elif hour == 18:\n",
    "        if minute >= 1:\n",
    "            return \"I don't see the sun!\"\n",
    "        else:\n",
    "            angle = (hour-6) * 15 + minute * 0.25\n",
    "            return angle\n",
    "    \n",
    "    else:\n",
    "        angle = (hour-6) * 15 + minute * 0.25\n",
    "        return angle\n",
    "    "
   ]
  },
  {
   "cell_type": "code",
   "execution_count": 19,
   "metadata": {},
   "outputs": [
    {
     "data": {
      "text/plain": [
       "180.0"
      ]
     },
     "execution_count": 19,
     "metadata": {},
     "output_type": "execute_result"
    }
   ],
   "source": [
    "sun_angle(\"18:00\")"
   ]
  },
  {
   "cell_type": "code",
   "execution_count": null,
   "metadata": {},
   "outputs": [],
   "source": []
  }
 ],
 "metadata": {
  "kernelspec": {
   "display_name": "Python 3",
   "language": "python",
   "name": "python3"
  },
  "language_info": {
   "codemirror_mode": {
    "name": "ipython",
    "version": 3
   },
   "file_extension": ".py",
   "mimetype": "text/x-python",
   "name": "python",
   "nbconvert_exporter": "python",
   "pygments_lexer": "ipython3",
   "version": "3.6.6"
  }
 },
 "nbformat": 4,
 "nbformat_minor": 2
}
