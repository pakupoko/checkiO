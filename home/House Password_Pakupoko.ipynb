{
 "cells": [
  {
   "cell_type": "code",
   "execution_count": 14,
   "metadata": {},
   "outputs": [],
   "source": [
    "def checkio(data: str):\n",
    "    chk_up=0\n",
    "    chk_low=0\n",
    "    chk_int=0\n",
    "    \n",
    "    if data.isalpha() or len(data) <10:\n",
    "        return False\n",
    "    \n",
    "    for c in data:\n",
    "        try:\n",
    "            if type(int(c)) == type(int()):\n",
    "                chk_int=1\n",
    "        except:\n",
    "            if c.islower():\n",
    "                chk_low=1\n",
    "            else:\n",
    "                chk_up=1 \n",
    "            \n",
    "    if chk_up ==1 and chk_low==1 and chk_int == 1:\n",
    "        return True\n",
    "    \n",
    "    return False"
   ]
  },
  {
   "cell_type": "code",
   "execution_count": 15,
   "metadata": {},
   "outputs": [
    {
     "data": {
      "text/plain": [
       "True"
      ]
     },
     "execution_count": 15,
     "metadata": {},
     "output_type": "execute_result"
    }
   ],
   "source": [
    "checkio('bAse730onE4')"
   ]
  },
  {
   "cell_type": "code",
   "execution_count": null,
   "metadata": {},
   "outputs": [],
   "source": []
  }
 ],
 "metadata": {
  "kernelspec": {
   "display_name": "Python 3",
   "language": "python",
   "name": "python3"
  },
  "language_info": {
   "codemirror_mode": {
    "name": "ipython",
    "version": 3
   },
   "file_extension": ".py",
   "mimetype": "text/x-python",
   "name": "python",
   "nbconvert_exporter": "python",
   "pygments_lexer": "ipython3",
   "version": "3.6.6"
  }
 },
 "nbformat": 4,
 "nbformat_minor": 2
}
