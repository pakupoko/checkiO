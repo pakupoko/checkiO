{
 "cells": [
  {
   "cell_type": "code",
   "execution_count": 88,
   "metadata": {},
   "outputs": [],
   "source": [
    "class Warrior:\n",
    "    def __init__(self):\n",
    "        self.hp = 50\n",
    "        self.atk = 5\n",
    "        self.priority = 0\n",
    "        self.is_alive=True\n",
    "        pass\n",
    "    \n",
    "    def is_alive(self):\n",
    "        if self.hp<=0 :\n",
    "            return False\n",
    "        \n",
    "        return True\n",
    "\n",
    "class Knight(Warrior):\n",
    "    def __init__(self):\n",
    "        super(Knight,self).__init__()\n",
    "        self.atk=7\n",
    "        self.priority = -1\n",
    "        pass\n",
    "\n",
    "def fight(unit_1, unit_2):\n",
    "    \n",
    "    switch = 0\n",
    "    \n",
    "    if unit_1.priority < unit_2.priority :\n",
    "        switch = 1\n",
    "        \n",
    "    while True:\n",
    "        if unit_1.hp <=0 :\n",
    "            unit_1.is_alive=False\n",
    "            return False\n",
    "        elif unit_2.hp <=0:\n",
    "            unit_2.is_alive=False\n",
    "            return True\n",
    "        if switch == 0:\n",
    "            unit_2.hp -= unit_1.atk\n",
    "            switch = 1\n",
    "            \n",
    "        elif switch == 1:\n",
    "            unit_1.hp -= unit_2.atk\n",
    "            switch = 0\n",
    "            \n",
    "            "
   ]
  },
  {
   "cell_type": "code",
   "execution_count": 89,
   "metadata": {},
   "outputs": [],
   "source": [
    "chuck = Warrior()\n",
    "bruce = Warrior()\n",
    "carl = Knight()\n",
    "dave = Warrior()"
   ]
  },
  {
   "cell_type": "code",
   "execution_count": 90,
   "metadata": {},
   "outputs": [
    {
     "data": {
      "text/plain": [
       "True"
      ]
     },
     "execution_count": 90,
     "metadata": {},
     "output_type": "execute_result"
    }
   ],
   "source": [
    "fight(chuck, bruce)"
   ]
  },
  {
   "cell_type": "code",
   "execution_count": 91,
   "metadata": {},
   "outputs": [
    {
     "data": {
      "text/plain": [
       "False"
      ]
     },
     "execution_count": 91,
     "metadata": {},
     "output_type": "execute_result"
    }
   ],
   "source": [
    "fight(dave, carl)"
   ]
  },
  {
   "cell_type": "code",
   "execution_count": 92,
   "metadata": {},
   "outputs": [
    {
     "data": {
      "text/plain": [
       "True"
      ]
     },
     "execution_count": 92,
     "metadata": {},
     "output_type": "execute_result"
    }
   ],
   "source": [
    "chuck.is_alive"
   ]
  },
  {
   "cell_type": "code",
   "execution_count": 87,
   "metadata": {},
   "outputs": [
    {
     "data": {
      "text/plain": [
       "False"
      ]
     },
     "execution_count": 87,
     "metadata": {},
     "output_type": "execute_result"
    }
   ],
   "source": []
  },
  {
   "cell_type": "code",
   "execution_count": null,
   "metadata": {},
   "outputs": [],
   "source": []
  }
 ],
 "metadata": {
  "kernelspec": {
   "display_name": "Python 3",
   "language": "python",
   "name": "python3"
  },
  "language_info": {
   "codemirror_mode": {
    "name": "ipython",
    "version": 3
   },
   "file_extension": ".py",
   "mimetype": "text/x-python",
   "name": "python",
   "nbconvert_exporter": "python",
   "pygments_lexer": "ipython3",
   "version": "3.6.6"
  }
 },
 "nbformat": 4,
 "nbformat_minor": 2
}
