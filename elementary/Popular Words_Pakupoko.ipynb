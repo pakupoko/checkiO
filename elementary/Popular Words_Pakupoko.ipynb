{
 "cells": [
  {
   "cell_type": "code",
   "execution_count": 3,
   "metadata": {},
   "outputs": [],
   "source": [
    "def popular_words(text: str, words: list) -> dict:\n",
    "    # your code here\n",
    "    text=text.split()\n",
    "    \n",
    "    word_dict={}\n",
    "    for i in words:\n",
    "        word_dict[i]=0\n",
    "        \n",
    "    for t in text:\n",
    "        if t.lower() in words :\n",
    "            word_dict[t.lower()] +=1\n",
    "            \n",
    "    word_dict=sorted(word_dict.items(), key=lambda x:x[1], reverse = True)\n",
    "    \n",
    "    return dict(word_dict)\n"
   ]
  },
  {
   "cell_type": "code",
   "execution_count": 4,
   "metadata": {},
   "outputs": [
    {
     "data": {
      "text/plain": [
       "{'i': 4, 'was': 3, 'three': 0, 'near': 0}"
      ]
     },
     "execution_count": 4,
     "metadata": {},
     "output_type": "execute_result"
    }
   ],
   "source": [
    "popular_words('''\n",
    "When I was One\n",
    "I had just begun\n",
    "When I was Two\n",
    "I was nearly new\n",
    "''', ['i', 'was', 'three', 'near'])"
   ]
  },
  {
   "cell_type": "code",
   "execution_count": null,
   "metadata": {},
   "outputs": [],
   "source": []
  }
 ],
 "metadata": {
  "kernelspec": {
   "display_name": "Python 3",
   "language": "python",
   "name": "python3"
  },
  "language_info": {
   "codemirror_mode": {
    "name": "ipython",
    "version": 3
   },
   "file_extension": ".py",
   "mimetype": "text/x-python",
   "name": "python",
   "nbconvert_exporter": "python",
   "pygments_lexer": "ipython3",
   "version": "3.6.6"
  }
 },
 "nbformat": 4,
 "nbformat_minor": 2
}
