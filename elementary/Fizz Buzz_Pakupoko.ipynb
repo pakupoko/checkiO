{
 "cells": [
  {
   "cell_type": "code",
   "execution_count": null,
   "metadata": {},
   "outputs": [],
   "source": [
    "def checkio(number: int) -> str:\n",
    "    \n",
    "    if number % 3 == 0 and number % 5 == 0:\n",
    "        return 'Fizz Buzz'\n",
    "    \n",
    "    elif number % 3 == 0 :\n",
    "        return 'Fizz'\n",
    "    \n",
    "    elif number % 5 == 0 :\n",
    "        return 'Buzz'\n",
    "    \n",
    "    else:\n",
    "        return str(number)"
   ]
  },
  {
   "cell_type": "code",
   "execution_count": null,
   "metadata": {},
   "outputs": [],
   "source": []
  }
 ],
 "metadata": {
  "kernelspec": {
   "display_name": "Python 3",
   "language": "python",
   "name": "python3"
  },
  "language_info": {
   "codemirror_mode": {
    "name": "ipython",
    "version": 3
   },
   "file_extension": ".py",
   "mimetype": "text/x-python",
   "name": "python",
   "nbconvert_exporter": "python",
   "pygments_lexer": "ipython3",
   "version": "3.6.6"
  }
 },
 "nbformat": 4,
 "nbformat_minor": 2
}
