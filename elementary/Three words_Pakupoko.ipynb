{
 "cells": [
  {
   "cell_type": "code",
   "execution_count": null,
   "metadata": {},
   "outputs": [],
   "source": [
    "def checkio(words: str) -> bool:\n",
    "    \n",
    "    words=words.split()\n",
    "    \n",
    "    cnt=0\n",
    "    for i in words:\n",
    "        try:\n",
    "            int(i)\n",
    "            cnt=0\n",
    "        except:\n",
    "            cnt+=1\n",
    "            \n",
    "        if cnt == 3:\n",
    "            return True\n",
    "        \n",
    "    return False"
   ]
  }
 ],
 "metadata": {
  "kernelspec": {
   "display_name": "Python 3",
   "language": "python",
   "name": "python3"
  },
  "language_info": {
   "codemirror_mode": {
    "name": "ipython",
    "version": 3
   },
   "file_extension": ".py",
   "mimetype": "text/x-python",
   "name": "python",
   "nbconvert_exporter": "python",
   "pygments_lexer": "ipython3",
   "version": "3.6.6"
  }
 },
 "nbformat": 4,
 "nbformat_minor": 2
}
