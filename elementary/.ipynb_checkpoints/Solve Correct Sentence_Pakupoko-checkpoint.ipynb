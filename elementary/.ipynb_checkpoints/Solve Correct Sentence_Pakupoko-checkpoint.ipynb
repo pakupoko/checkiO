{
 "cells": [
  {
   "cell_type": "code",
   "execution_count": 27,
   "metadata": {},
   "outputs": [],
   "source": [
    "def correct_sentence(text: str) -> str:\n",
    "    voca = text.split()\n",
    "    new=voca[0][0].upper()+voca[0][1:] + \" \"\n",
    "    \n",
    "    for idx, v in enumerate(voca[1:]):\n",
    "        if v=='.':\n",
    "            continue\n",
    "        \n",
    "        v=v.strip(\".\")\n",
    "        \n",
    "        new+=v + \" \"\n",
    "    \n",
    "    new=new.strip(\" \")\n",
    "    \n",
    "    return new+'.'"
   ]
  },
  {
   "cell_type": "code",
   "execution_count": 28,
   "metadata": {},
   "outputs": [
    {
     "data": {
      "text/plain": [
       "'Greetings, friends.'"
      ]
     },
     "execution_count": 28,
     "metadata": {},
     "output_type": "execute_result"
    }
   ],
   "source": [
    "correct_sentence(\"greetings, friends\")"
   ]
  },
  {
   "cell_type": "code",
   "execution_count": 29,
   "metadata": {},
   "outputs": [
    {
     "data": {
      "text/plain": [
       "'Greetings, friends.'"
      ]
     },
     "execution_count": 29,
     "metadata": {},
     "output_type": "execute_result"
    }
   ],
   "source": [
    "correct_sentence(\"Greetings, friends.\")"
   ]
  },
  {
   "cell_type": "code",
   "execution_count": null,
   "metadata": {},
   "outputs": [],
   "source": []
  }
 ],
 "metadata": {
  "kernelspec": {
   "display_name": "Python 3",
   "language": "python",
   "name": "python3"
  },
  "language_info": {
   "codemirror_mode": {
    "name": "ipython",
    "version": 3
   },
   "file_extension": ".py",
   "mimetype": "text/x-python",
   "name": "python",
   "nbconvert_exporter": "python",
   "pygments_lexer": "ipython3",
   "version": "3.6.6"
  }
 },
 "nbformat": 4,
 "nbformat_minor": 2
}
