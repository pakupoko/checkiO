{
 "cells": [
  {
   "cell_type": "code",
   "execution_count": 15,
   "metadata": {},
   "outputs": [],
   "source": [
    "def bigger_price(limit: int, data: list) -> list:\n",
    "    \"\"\"\n",
    "        TOP most expensive goods\n",
    "    \"\"\"\n",
    "    # your code here\n",
    "    \n",
    "    sdata={}\n",
    "    \n",
    "    data_list=[]\n",
    "    for val in data:\n",
    "        sdata[val['name']]=val['price']\n",
    "    \n",
    "    sdata=sorted(sdata.items(), key=lambda x:x[1], reverse=True)\n",
    "    \n",
    "    for idx, val in enumerate(sdata):\n",
    "        if idx == limit :\n",
    "              return data_list\n",
    "        new_data={}\n",
    "        new_data['name']=val[0]\n",
    "        new_data['price']=val[1]\n",
    "        \n",
    "        data_list.append(new_data)"
   ]
  },
  {
   "cell_type": "code",
   "execution_count": 16,
   "metadata": {},
   "outputs": [
    {
     "data": {
      "text/plain": [
       "[{'name': 'wine', 'price': 138}, {'name': 'bread', 'price': 100}]"
      ]
     },
     "execution_count": 16,
     "metadata": {},
     "output_type": "execute_result"
    }
   ],
   "source": [
    "bigger_price(2, [\n",
    "        {\"name\": \"bread\", \"price\": 100},\n",
    "        {\"name\": \"wine\", \"price\": 138},\n",
    "        {\"name\": \"meat\", \"price\": 15},\n",
    "        {\"name\": \"water\", \"price\": 1}\n",
    "    ])"
   ]
  },
  {
   "cell_type": "code",
   "execution_count": null,
   "metadata": {},
   "outputs": [],
   "source": []
  }
 ],
 "metadata": {
  "kernelspec": {
   "display_name": "Python 3",
   "language": "python",
   "name": "python3"
  },
  "language_info": {
   "codemirror_mode": {
    "name": "ipython",
    "version": 3
   },
   "file_extension": ".py",
   "mimetype": "text/x-python",
   "name": "python",
   "nbconvert_exporter": "python",
   "pygments_lexer": "ipython3",
   "version": "3.6.6"
  }
 },
 "nbformat": 4,
 "nbformat_minor": 2
}
