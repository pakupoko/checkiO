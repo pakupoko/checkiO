{
 "cells": [
  {
   "cell_type": "code",
   "execution_count": 13,
   "metadata": {},
   "outputs": [],
   "source": [
    "def between_markers(text: str, begin: str, end: str) -> str:\n",
    "    \"\"\"\n",
    "        returns substring between two given markers\n",
    "    \"\"\"\n",
    "    # your code here\n",
    "    temp = text\n",
    "    try:\n",
    "        if text.index(begin)>text.index(end):\n",
    "            return ''\n",
    "    except:\n",
    "        pass\n",
    "\n",
    "    try:\n",
    "        idx = text.index(begin)\n",
    "        text = text[idx:]\n",
    "    except:\n",
    "        pass\n",
    "    \n",
    "    try:\n",
    "        idx = text.index(end)\n",
    "        text = text[:idx]\n",
    "        flag +=1\n",
    "    except:\n",
    "        pass\n",
    "\n",
    "    try:\n",
    "        return text.replace(begin,'')\n",
    "    except:\n",
    "        return text"
   ]
  },
  {
   "cell_type": "code",
   "execution_count": 14,
   "metadata": {},
   "outputs": [
    {
     "data": {
      "text/plain": [
       "'No'"
      ]
     },
     "execution_count": 14,
     "metadata": {},
     "output_type": "execute_result"
    }
   ],
   "source": [
    "between_markers('No[/b] hi', '[b]', '[/b]')"
   ]
  },
  {
   "cell_type": "code",
   "execution_count": null,
   "metadata": {},
   "outputs": [],
   "source": []
  }
 ],
 "metadata": {
  "kernelspec": {
   "display_name": "Python 3",
   "language": "python",
   "name": "python3"
  },
  "language_info": {
   "codemirror_mode": {
    "name": "ipython",
    "version": 3
   },
   "file_extension": ".py",
   "mimetype": "text/x-python",
   "name": "python",
   "nbconvert_exporter": "python",
   "pygments_lexer": "ipython3",
   "version": "3.6.6"
  }
 },
 "nbformat": 4,
 "nbformat_minor": 2
}
