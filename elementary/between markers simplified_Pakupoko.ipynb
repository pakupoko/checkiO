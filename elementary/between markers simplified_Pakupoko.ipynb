{
 "cells": [
  {
   "cell_type": "code",
   "execution_count": null,
   "metadata": {},
   "outputs": [],
   "source": [
    "def between_markers(text: str, begin: str, end: str) -> str:\n",
    "    \"\"\"\n",
    "        returns substring between two given markers\n",
    "    \"\"\"\n",
    "    # your code here\n",
    "    \n",
    "    text=text.split()\n",
    "    temp = ''\n",
    "    for t in text:\n",
    "        if begin in t and end in t:\n",
    "            return t.strip(begin).strip(end)\n",
    "        \n",
    "        elif begin in t:\n",
    "            temp += t.strip(begin)+\" \"\n",
    "            \n",
    "        elif end in t:\n",
    "            temp += t.strip(end)\n",
    "            return temp\n",
    "\n",
    "    return ''"
   ]
  }
 ],
 "metadata": {
  "kernelspec": {
   "display_name": "Python 3",
   "language": "python",
   "name": "python3"
  },
  "language_info": {
   "codemirror_mode": {
    "name": "ipython",
    "version": 3
   },
   "file_extension": ".py",
   "mimetype": "text/x-python",
   "name": "python",
   "nbconvert_exporter": "python",
   "pygments_lexer": "ipython3",
   "version": "3.6.6"
  }
 },
 "nbformat": 4,
 "nbformat_minor": 2
}
