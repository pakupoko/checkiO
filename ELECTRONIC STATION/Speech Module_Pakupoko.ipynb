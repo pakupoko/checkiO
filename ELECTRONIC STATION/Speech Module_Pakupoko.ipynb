{
 "cells": [
  {
   "cell_type": "code",
   "execution_count": 1,
   "metadata": {},
   "outputs": [],
   "source": [
    "FIRST_TEN = [\"one\", \"two\", \"three\", \"four\", \"five\", \"six\", \"seven\",\n",
    "             \"eight\", \"nine\"]\n",
    "SECOND_TEN = [\"ten\", \"eleven\", \"twelve\", \"thirteen\", \"fourteen\", \"fifteen\",\n",
    "              \"sixteen\", \"seventeen\", \"eighteen\", \"nineteen\"]\n",
    "OTHER_TENS = [\"twenty\", \"thirty\", \"forty\", \"fifty\", \"sixty\", \"seventy\",\n",
    "              \"eighty\", \"ninety\"]\n",
    "HUNDRED = \"hundred\""
   ]
  },
  {
   "cell_type": "code",
   "execution_count": 12,
   "metadata": {},
   "outputs": [],
   "source": [
    "def checkio(number):\n",
    "    speech = ''\n",
    "    \n",
    "    if (number // 100) != 0 :\n",
    "        speech += FIRST_TEN[(number//100)-1] + ' ' + HUNDRED + \" \"\n",
    "        number %= 100\n",
    "        \n",
    "    if (number // 10) != 0 :\n",
    "        if (number // 10) == 1:\n",
    "            speech += SECOND_TEN[(number % 10)]\n",
    "            return speech\n",
    "        else:\n",
    "            speech += OTHER_TENS[(number // 10) - 2] + ' '\n",
    "            number %= 10\n",
    "    \n",
    "    if (number % 10) != 0 :\n",
    "        speech += FIRST_TEN[(number % 10) - 1]\n",
    "        return speech\n",
    "    \n",
    "    return speech.strip()"
   ]
  },
  {
   "cell_type": "code",
   "execution_count": 14,
   "metadata": {},
   "outputs": [
    {
     "data": {
      "text/plain": [
       "'three hundred twelve'"
      ]
     },
     "execution_count": 14,
     "metadata": {},
     "output_type": "execute_result"
    }
   ],
   "source": [
    "checkio(312)"
   ]
  },
  {
   "cell_type": "code",
   "execution_count": null,
   "metadata": {},
   "outputs": [],
   "source": []
  }
 ],
 "metadata": {
  "kernelspec": {
   "display_name": "Python 3",
   "language": "python",
   "name": "python3"
  },
  "language_info": {
   "codemirror_mode": {
    "name": "ipython",
    "version": 3
   },
   "file_extension": ".py",
   "mimetype": "text/x-python",
   "name": "python",
   "nbconvert_exporter": "python",
   "pygments_lexer": "ipython3",
   "version": "3.6.6"
  }
 },
 "nbformat": 4,
 "nbformat_minor": 2
}
